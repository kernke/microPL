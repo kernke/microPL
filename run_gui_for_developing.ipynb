{
 "cells": [
  {
   "cell_type": "code",
   "execution_count": null,
   "id": "017326bf-2ab5-4065-86e7-2bf125f8e97b",
   "metadata": {},
   "outputs": [],
   "source": [
    "import MicroPL as MPL\n",
    "from PyQt5.QtCore import QCoreApplication\n",
    "%gui qt"
   ]
  },
  {
   "cell_type": "code",
   "execution_count": null,
   "id": "c76f4847-b839-4a6d-b989-ebf593c96a5e",
   "metadata": {},
   "outputs": [],
   "source": [
    "# just needed during the app development\n",
    "# so one does not need to restart the kernel every time\n",
    "# the MicroPL package has been changed\n",
    "%load_ext autoreload\n",
    "%autoreload 2"
   ]
  },
  {
   "cell_type": "code",
   "execution_count": null,
   "id": "55e684f4-ff07-48cc-a27c-941699a6a435",
   "metadata": {},
   "outputs": [],
   "source": [
    "#%%capture --no-display\n",
    "# prevent this cell to produce output\n",
    "\n",
    "# changes in the the MicroPL package still must be installed\n",
    "#!pip install ."
   ]
  },
  {
   "cell_type": "code",
   "execution_count": null,
   "id": "5601396f-ef69-40fb-b7e1-195271e803f3",
   "metadata": {},
   "outputs": [],
   "source": [
    "app = QCoreApplication.instance()\n",
    "window = MPL.MainWindow()\n",
    "window.show()\n",
    "app.exec()\n"
   ]
  },
  {
   "cell_type": "code",
   "execution_count": null,
   "id": "7a51e63e-8e47-45b2-ba81-d2a8b9d1f746",
   "metadata": {},
   "outputs": [],
   "source": []
  }
 ],
 "metadata": {
  "kernelspec": {
   "display_name": "py10",
   "language": "python",
   "name": "python3"
  },
  "language_info": {
   "codemirror_mode": {
    "name": "ipython",
    "version": 3
   },
   "file_extension": ".py",
   "mimetype": "text/x-python",
   "name": "python",
   "nbconvert_exporter": "python",
   "pygments_lexer": "ipython3",
   "version": "3.10.18"
  }
 },
 "nbformat": 4,
 "nbformat_minor": 5
}
